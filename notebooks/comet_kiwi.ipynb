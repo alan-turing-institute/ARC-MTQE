{
 "cells": [
  {
   "cell_type": "code",
   "execution_count": null,
   "id": "69ee903c",
   "metadata": {},
   "outputs": [],
   "source": [
    "import os\n",
    "import pandas as pd\n",
    "\n",
    "from datetime import datetime"
   ]
  },
  {
   "cell_type": "markdown",
   "id": "71262a35",
   "metadata": {},
   "source": [
    "## Load COMETKiwi 2022 model"
   ]
  },
  {
   "cell_type": "code",
   "execution_count": null,
   "id": "6866836a-712a-4b88-b80e-14720fff22bd",
   "metadata": {},
   "outputs": [],
   "source": [
    "# log into Huggingface hub\n",
    "from huggingface_hub import notebook_login\n",
    "notebook_login()"
   ]
  },
  {
   "cell_type": "code",
   "execution_count": null,
   "id": "22b59624-a363-4425-9240-e1bf9de6d25d",
   "metadata": {},
   "outputs": [],
   "source": [
    "from comet import download_model, load_from_checkpoint\n",
    "\n",
    "model_path = download_model(\"Unbabel/wmt22-cometkiwi-da\")\n",
    "model = load_from_checkpoint(model_path)\n"
   ]
  },
  {
   "cell_type": "markdown",
   "id": "74e2d324",
   "metadata": {},
   "source": [
    "## Make predictions"
   ]
  },
  {
   "cell_type": "code",
   "execution_count": null,
   "id": "5da2e6bb",
   "metadata": {},
   "outputs": [],
   "source": [
    "# path to ARC-MTQE directory\n",
    "main_dir = os.path.dirname(os.getcwd())"
   ]
  },
  {
   "cell_type": "code",
   "execution_count": null,
   "id": "55a2cc0f",
   "metadata": {},
   "outputs": [],
   "source": [
    "data_dir = os.path.join(main_dir, \"data\", \"mlqe-pe\", \"data\", \"catastrophic_errors\")"
   ]
  },
  {
   "cell_type": "code",
   "execution_count": null,
   "id": "e31b316a",
   "metadata": {},
   "outputs": [],
   "source": [
    "# save results here\n",
    "now = datetime.today().strftime(\"%Y%m%dT%H%M%S\")\n",
    "out_dir = os.path.join(main_dir, \"results\", \"comet_kiwi\", now)\n",
    "os.makedirs(out_dir, exist_ok=True)"
   ]
  },
  {
   "cell_type": "code",
   "execution_count": null,
   "id": "9b91ecbb",
   "metadata": {},
   "outputs": [],
   "source": [
    "# make predictions for all language pairs listed here\n",
    "language_pairs = [\"encs\", \"ende\", \"enja\", \"enzh\"]"
   ]
  },
  {
   "cell_type": "code",
   "execution_count": null,
   "id": "827f42cc",
   "metadata": {},
   "outputs": [],
   "source": [
    "for lp in language_pairs:\n",
    "\n",
    "    # load data\n",
    "    path_data = os.path.join(data_dir, f\"{lp}_majority_test_blind.tsv\")\n",
    "    df_data = pd.read_csv(path_data, sep='\\t', header=None, names=[\"idx\", \"source\", \"target\"])\n",
    "    \n",
    "    # format for COMETKiwi input: [{\"src\":\"...\", \"mt\":\"...\"}, {...}] \n",
    "    comet_data = []\n",
    "    for i, row in df_data.iterrows():\n",
    "        comet_data.append({\"src\": row[\"source\"], \"mt\": row[\"target\"]})\n",
    "\n",
    "    # predict\n",
    "    model_output = model.predict(comet_data, batch_size=8, gpus=0)\n",
    "\n",
    "    # save output\n",
    "    df_results = pd.DataFrame({\"idx\": df_data[\"idx\"], \"comet_score\": model_output.scores})\n",
    "    df_results.to_csv(os.path.join(out_dir, f\"{lp}_predictions.csv\"), index=False)"
   ]
  }
 ],
 "metadata": {
  "kernelspec": {
   "display_name": "Python 3 (ipykernel)",
   "language": "python",
   "name": "python3"
  },
  "language_info": {
   "codemirror_mode": {
    "name": "ipython",
    "version": 3
   },
   "file_extension": ".py",
   "mimetype": "text/x-python",
   "name": "python",
   "nbconvert_exporter": "python",
   "pygments_lexer": "ipython3",
   "version": "3.9.7"
  }
 },
 "nbformat": 4,
 "nbformat_minor": 5
}
