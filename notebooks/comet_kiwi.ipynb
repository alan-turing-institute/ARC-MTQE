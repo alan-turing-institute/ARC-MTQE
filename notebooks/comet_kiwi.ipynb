{
 "cells": [
  {
   "cell_type": "code",
   "execution_count": 1,
   "id": "69ee903c",
   "metadata": {},
   "outputs": [],
   "source": [
    "import os\n",
    "import pandas as pd\n",
    "\n",
    "from datetime import datetime"
   ]
  },
  {
   "cell_type": "markdown",
   "id": "71262a35",
   "metadata": {},
   "source": [
    "## Load COMETKiwi 2022 model"
   ]
  },
  {
   "cell_type": "code",
   "execution_count": null,
   "id": "6866836a-712a-4b88-b80e-14720fff22bd",
   "metadata": {},
   "outputs": [
    {
     "name": "stdout",
     "output_type": "stream",
     "text": [
      "Token is valid.\n",
      "Your token has been saved in your configured git credential helpers (osxkeychain).\n",
      "Your token has been saved to /Users/rjersakova/.cache/huggingface/token\n",
      "Login successful\n"
     ]
    }
   ],
   "source": [
    "# log into Huggingface hub\n",
    "from huggingface_hub import notebook_login\n",
    "notebook_login()"
   ]
  },
  {
   "cell_type": "code",
   "execution_count": 3,
   "id": "22b59624-a363-4425-9240-e1bf9de6d25d",
   "metadata": {},
   "outputs": [
    {
     "data": {
      "application/vnd.jupyter.widget-view+json": {
       "model_id": "6da1583e6b0b48efb0864df369629415",
       "version_major": 2,
       "version_minor": 0
      },
      "text/plain": [
       "Fetching 5 files:   0%|          | 0/5 [00:00<?, ?it/s]"
      ]
     },
     "metadata": {},
     "output_type": "display_data"
    },
    {
     "name": "stderr",
     "output_type": "stream",
     "text": [
      "Lightning automatically upgraded your loaded checkpoint from v1.8.2 to v1.9.5. To apply the upgrade to your files permanently, run `python -m pytorch_lightning.utilities.upgrade_checkpoint --file ../../../.cache/huggingface/hub/models--Unbabel--wmt22-cometkiwi-da/snapshots/b3a8aea5a5fc22db68a554b92b3d96eb6ea75cc9/checkpoints/model.ckpt`\n",
      "Encoder model frozen.\n"
     ]
    }
   ],
   "source": [
    "from comet import download_model, load_from_checkpoint\n",
    "\n",
    "model_path = download_model(\"Unbabel/wmt22-cometkiwi-da\")\n",
    "model = load_from_checkpoint(model_path)\n"
   ]
  },
  {
   "cell_type": "markdown",
   "id": "74e2d324",
   "metadata": {},
   "source": [
    "## Make predictions"
   ]
  },
  {
   "cell_type": "code",
   "execution_count": 4,
   "id": "5da2e6bb",
   "metadata": {},
   "outputs": [],
   "source": [
    "# path to ARC-MTQE directory\n",
    "main_dir = os.path.dirname(os.getcwd())"
   ]
  },
  {
   "cell_type": "code",
   "execution_count": 5,
   "id": "55a2cc0f",
   "metadata": {},
   "outputs": [],
   "source": [
    "data_dir = os.path.join(main_dir, \"mlqe-pe\", \"data\", \"catastrophic_errors\")"
   ]
  },
  {
   "cell_type": "code",
   "execution_count": 6,
   "id": "e31b316a",
   "metadata": {},
   "outputs": [],
   "source": [
    "# save results here\n",
    "now = datetime.today().strftime(\"%Y%m%dT%H%M%S\")\n",
    "out_dir = os.path.join(main_dir, \"results\", \"comet_kiwi\", now)\n",
    "os.makedirs(out_dir, exist_ok=True)"
   ]
  },
  {
   "cell_type": "code",
   "execution_count": 7,
   "id": "9b91ecbb",
   "metadata": {},
   "outputs": [],
   "source": [
    "# make predictions for all language pairs listed here\n",
    "language_pairs = [\"encs\", \"ende\", \"enja\", \"enzh\"]"
   ]
  },
  {
   "cell_type": "code",
   "execution_count": 8,
   "id": "827f42cc",
   "metadata": {},
   "outputs": [
    {
     "name": "stderr",
     "output_type": "stream",
     "text": [
      "GPU available: False, used: False\n",
      "TPU available: False, using: 0 TPU cores\n",
      "IPU available: False, using: 0 IPUs\n",
      "HPU available: False, using: 0 HPUs\n",
      "Predicting DataLoader 0: 100%|██████████| 125/125 [03:21<00:00,  1.61s/it]\n",
      "GPU available: False, used: False\n",
      "TPU available: False, using: 0 TPU cores\n",
      "IPU available: False, using: 0 IPUs\n",
      "HPU available: False, using: 0 HPUs\n",
      "Predicting DataLoader 0: 100%|██████████| 125/125 [03:22<00:00,  1.62s/it]\n",
      "GPU available: False, used: False\n",
      "TPU available: False, using: 0 TPU cores\n",
      "IPU available: False, using: 0 IPUs\n",
      "HPU available: False, using: 0 HPUs\n",
      "Predicting DataLoader 0: 100%|██████████| 125/125 [05:30<00:00,  2.65s/it]\n",
      "GPU available: False, used: False\n",
      "TPU available: False, using: 0 TPU cores\n",
      "IPU available: False, using: 0 IPUs\n",
      "HPU available: False, using: 0 HPUs\n",
      "Predicting DataLoader 0: 100%|██████████| 125/125 [03:40<00:00,  1.77s/it]\n"
     ]
    }
   ],
   "source": [
    "for lp in language_pairs:\n",
    "\n",
    "    # load data\n",
    "    path_data = os.path.join(data_dir, f\"{lp}_majority_test_blind.tsv\")\n",
    "    df_data = pd.read_csv(path_data, sep='\\t', header=None, names=[\"idx\", \"source\", \"target\"])\n",
    "    \n",
    "    # format for COMETKiwi input: [{\"src\":\"...\", \"mt\":\"...\"}, {...}] \n",
    "    comet_data = []\n",
    "    for i, row in df_data.iterrows():\n",
    "        comet_data.append({\"src\": row[\"source\"], \"mt\": row[\"target\"]})\n",
    "\n",
    "    # predict\n",
    "    model_output = model.predict(comet_data, batch_size=8, gpus=0)\n",
    "\n",
    "    # save output\n",
    "    df_results = pd.DataFrame({\"idx\": df_data[\"idx\"], \"comet_score\": model_output.scores})\n",
    "    df_results.to_csv(os.path.join(out_dir, f\"{lp}_predictions.csv\"), index=False)"
   ]
  }
 ],
 "metadata": {
  "kernelspec": {
   "display_name": "Python 3 (ipykernel)",
   "language": "python",
   "name": "python3"
  },
  "language_info": {
   "codemirror_mode": {
    "name": "ipython",
    "version": 3
   },
   "file_extension": ".py",
   "mimetype": "text/x-python",
   "name": "python",
   "nbconvert_exporter": "python",
   "pygments_lexer": "ipython3",
   "version": "3.9.7"
  }
 },
 "nbformat": 4,
 "nbformat_minor": 5
}
