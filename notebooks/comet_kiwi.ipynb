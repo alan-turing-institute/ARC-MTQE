{
 "cells": [
  {
   "cell_type": "code",
   "execution_count": 19,
   "id": "69ee903c",
   "metadata": {},
   "outputs": [],
   "source": [
    "import os\n",
    "\n",
    "import numpy as np\n",
    "import pandas as pd\n",
    "\n",
    "import matplotlib.pyplot as plt\n",
    "\n",
    "from sklearn.metrics import matthews_corrcoef"
   ]
  },
  {
   "cell_type": "markdown",
   "id": "71262a35",
   "metadata": {},
   "source": [
    "## Load COMETKiwi 2022 model"
   ]
  },
  {
   "cell_type": "code",
   "execution_count": 20,
   "id": "6866836a-712a-4b88-b80e-14720fff22bd",
   "metadata": {},
   "outputs": [
    {
     "data": {
      "application/vnd.jupyter.widget-view+json": {
       "model_id": "893b910ad0a14419a11936d5c537fd6c",
       "version_major": 2,
       "version_minor": 0
      },
      "text/plain": [
       "VBox(children=(HTML(value='<center> <img\\nsrc=https://huggingface.co/front/assets/huggingface_logo-noborder.sv…"
      ]
     },
     "metadata": {},
     "output_type": "display_data"
    }
   ],
   "source": [
    "# log into Huggingface hub\n",
    "from huggingface_hub import notebook_login\n",
    "notebook_login()"
   ]
  },
  {
   "cell_type": "code",
   "execution_count": 21,
   "id": "22b59624-a363-4425-9240-e1bf9de6d25d",
   "metadata": {},
   "outputs": [
    {
     "data": {
      "application/vnd.jupyter.widget-view+json": {
       "model_id": "8b10d8f2480d427ca0e10e3dde655f36",
       "version_major": 2,
       "version_minor": 0
      },
      "text/plain": [
       "Fetching 5 files:   0%|          | 0/5 [00:00<?, ?it/s]"
      ]
     },
     "metadata": {},
     "output_type": "display_data"
    },
    {
     "name": "stderr",
     "output_type": "stream",
     "text": [
      "Lightning automatically upgraded your loaded checkpoint from v1.8.2 to v1.9.5. To apply the upgrade to your files permanently, run `python -m pytorch_lightning.utilities.upgrade_checkpoint --file ../../../.cache/huggingface/hub/models--Unbabel--wmt22-cometkiwi-da/snapshots/b3a8aea5a5fc22db68a554b92b3d96eb6ea75cc9/checkpoints/model.ckpt`\n",
      "Encoder model frozen.\n"
     ]
    }
   ],
   "source": [
    "from comet import download_model, load_from_checkpoint\n",
    "\n",
    "model_path = download_model(\"Unbabel/wmt22-cometkiwi-da\")\n",
    "model = load_from_checkpoint(model_path)\n"
   ]
  },
  {
   "cell_type": "markdown",
   "id": "74e2d324",
   "metadata": {},
   "source": [
    "## Load data"
   ]
  },
  {
   "cell_type": "code",
   "execution_count": null,
   "id": "5da2e6bb",
   "metadata": {},
   "outputs": [],
   "source": [
    "# TODO: set the `main_dir` path to the parent directory of `ARC-MTQE`\n",
    "main_dir = \"/Users/rjersakova/Documents/\""
   ]
  },
  {
   "cell_type": "code",
   "execution_count": null,
   "id": "9b91ecbb",
   "metadata": {},
   "outputs": [],
   "source": [
    "# make predictions for all language pairs listed here\n",
    "language_pairs = [\"encs\", \"ende\", \"enja\", \"enzh\"]"
   ]
  },
  {
   "cell_type": "code",
   "execution_count": 32,
   "id": "827f42cc",
   "metadata": {},
   "outputs": [],
   "source": [
    "# load data and ground truth labels\n",
    "data_dir = os.path.join(main_dir, \"ARC-MTQE\", \"mlqe-pe\", \"data\")\n",
    "\n",
    "all_data = {}\n",
    "\n",
    "for lp in language_pairs:\n",
    "    path_data = os.path.join(data_dir, \"catastrophic_errors\", f\"{lp}_majority_test_blind.tsv\")\n",
    "    path_labels = os.path.join(data_dir, \"catastrophic_errors_goldlabels\", f\"{lp}_majority_test_goldlabels\", \"goldlabels.txt\")\n",
    "\n",
    "    # format data into COMETKiwi input style: [{\"src\":\"...\", \"mt\":\"...\"}, {...}] \n",
    "    df_data = pd.read_csv(path_data, sep='\\t', header=None, names=[\"idx\", \"source\", \"target\"])\n",
    "    data = []\n",
    "    for i, row in df_data.iterrows():\n",
    "        data.append({\"src\": row[\"source\"], \"mt\": row[\"target\"]})\n",
    "\n",
    "    # ground truth labels\n",
    "    df_labels = pd.read_csv(path_labels, sep='\\t', header=None, names=[\"lang_pair\", \"ref\", \"idx\", \"label\"])\n",
    "    # ERROR = 1, NOT = 0\n",
    "    df_labels[\"error\"] = np.where(df_labels[\"label\"]==\"NOT\", 0, 1)\n",
    "\n",
    "    all_data[lp] = {\"data\": data, \"df_data\": df_data, \"df_labels\": df_labels}"
   ]
  },
  {
   "cell_type": "markdown",
   "id": "ac172be8",
   "metadata": {},
   "source": [
    "## Make predictions"
   ]
  },
  {
   "cell_type": "code",
   "execution_count": 34,
   "id": "13d434c7-8d38-42e6-8348-e79a269a6f7c",
   "metadata": {},
   "outputs": [
    {
     "name": "stderr",
     "output_type": "stream",
     "text": [
      "GPU available: False, used: False\n",
      "TPU available: False, using: 0 TPU cores\n",
      "IPU available: False, using: 0 IPUs\n",
      "HPU available: False, using: 0 HPUs\n",
      "Predicting DataLoader 0: 100%|██████████| 125/125 [02:58<00:00,  1.43s/it]\n",
      "GPU available: False, used: False\n",
      "TPU available: False, using: 0 TPU cores\n",
      "IPU available: False, using: 0 IPUs\n",
      "HPU available: False, using: 0 HPUs\n",
      "Predicting DataLoader 0: 100%|██████████| 125/125 [03:03<00:00,  1.46s/it]\n",
      "GPU available: False, used: False\n",
      "TPU available: False, using: 0 TPU cores\n",
      "IPU available: False, using: 0 IPUs\n",
      "HPU available: False, using: 0 HPUs\n",
      "Predicting DataLoader 0: 100%|██████████| 125/125 [05:20<00:00,  2.56s/it]\n",
      "GPU available: False, used: False\n",
      "TPU available: False, using: 0 TPU cores\n",
      "IPU available: False, using: 0 IPUs\n",
      "HPU available: False, using: 0 HPUs\n",
      "Predicting DataLoader 0: 100%|██████████| 125/125 [03:41<00:00,  1.77s/it]\n"
     ]
    }
   ],
   "source": [
    "for lp in language_pairs:\n",
    "    model_output = model.predict(all_data[lp][\"data\"], batch_size=8, gpus=0)\n",
    "    all_data[lp][\"df_data\"]['comet_score'] = model_output.scores"
   ]
  },
  {
   "cell_type": "markdown",
   "id": "65ac99ba",
   "metadata": {},
   "source": [
    "## Evaluate"
   ]
  },
  {
   "cell_type": "code",
   "execution_count": 38,
   "id": "845287be",
   "metadata": {},
   "outputs": [],
   "source": [
    "# define range of threshold values for turning COMETKiwi output into binary labels\n",
    "thresholds = np.arange(0.1, 1, 0.1)"
   ]
  },
  {
   "cell_type": "code",
   "execution_count": 39,
   "id": "224874a1",
   "metadata": {},
   "outputs": [],
   "source": [
    "# save results\n",
    "outdir = os.path.join(main_dir, \"ARC-MTQE\", \"results\")\n",
    "if not os.path.exists(outdir):\n",
    "    os.mkdir(outdir)"
   ]
  },
  {
   "cell_type": "code",
   "execution_count": 44,
   "id": "483d6853",
   "metadata": {},
   "outputs": [
    {
     "name": "stdout",
     "output_type": "stream",
     "text": [
      "\n",
      " encs\n",
      "0.1 0.0\n",
      "0.2 0.0\n",
      "0.30000000000000004 0.1136298865897307\n",
      "0.4 0.17361933066582394\n",
      "0.5 0.2831032951475931\n",
      "0.6 0.3697324982623221\n",
      "0.7000000000000001 0.3637324741187898\n",
      "0.8 0.3030024569183256\n",
      "0.9 0.015273470515558312\n",
      "\n",
      " ende\n",
      "0.1 0.0\n",
      "0.2 0.0\n",
      "0.30000000000000004 0.0862495427090441\n",
      "0.4 0.16654776089680248\n",
      "0.5 0.30371715143564143\n",
      "0.6 0.3080711762589512\n",
      "0.7000000000000001 0.3318425097976723\n",
      "0.8 0.2844062103441502\n",
      "0.9 0.0\n",
      "\n",
      " enja\n",
      "0.1 0.0\n",
      "0.2 0.0\n",
      "0.30000000000000004 0.0\n",
      "0.4 -0.00945589936331561\n",
      "0.5 0.08305920261797595\n",
      "0.6 0.1465644355209068\n",
      "0.7000000000000001 0.1361687054139401\n",
      "0.8 0.18906994821125991\n",
      "0.9 0.018940258936452087\n",
      "\n",
      " enzh\n",
      "0.1 0.0\n",
      "0.2 0.0\n",
      "0.30000000000000004 0.0\n",
      "0.4 0.07303730808582047\n",
      "0.5 0.10333648087524111\n",
      "0.6 0.1891758611977713\n",
      "0.7000000000000001 0.17787309242027585\n",
      "0.8 0.19351236731818536\n",
      "0.9 0.0\n"
     ]
    }
   ],
   "source": [
    "for lp in language_pairs:\n",
    "\n",
    "    print(\"\\n\", lp)\n",
    "    \n",
    "    lp_data = all_data[lp]\n",
    "\n",
    "    # this might be unnecessary step but it ensures that the indexes of the data and the gold labels are the same\n",
    "    # an alternative would be to save the comet scores in df_labels directly\n",
    "    df_results = pd.merge(lp_data[\"df_data\"], lp_data[\"df_labels\"], on=\"idx\")\n",
    "    y_true = df_results[\"error\"]\n",
    "\n",
    "    # save to file\n",
    "    df_results[[\"idx\", \"comet_score\", \"label\", \"error\"]].to_csv(os.path.join(outdir, f\"{lp}_predictions.csv\"), index=False)\n",
    "\n",
    "     # turn COMETKiwi predictions into binary labels for a range of thresholds and evaluate accuracy of prediction\n",
    "    for t in thresholds:\n",
    "\n",
    "        # we use 1 to indicate ERROR --> values below threshold are flagged as errors\n",
    "        y_hat = (df_results['comet_score'] <= t).astype(int)\n",
    "\n",
    "        print(t, matthews_corrcoef(y_true, y_hat))"
   ]
  },
  {
   "cell_type": "code",
   "execution_count": null,
   "id": "dc0ce68c-d442-4c8e-b75d-0382df7ca7b5",
   "metadata": {},
   "outputs": [],
   "source": []
  },
  {
   "cell_type": "code",
   "execution_count": null,
   "id": "5462635c-1495-46da-8365-9ee963977cb9",
   "metadata": {},
   "outputs": [],
   "source": []
  }
 ],
 "metadata": {
  "kernelspec": {
   "display_name": "Python 3 (ipykernel)",
   "language": "python",
   "name": "python3"
  },
  "language_info": {
   "codemirror_mode": {
    "name": "ipython",
    "version": 3
   },
   "file_extension": ".py",
   "mimetype": "text/x-python",
   "name": "python",
   "nbconvert_exporter": "python",
   "pygments_lexer": "ipython3",
   "version": "3.9.7"
  }
 },
 "nbformat": 4,
 "nbformat_minor": 5
}
