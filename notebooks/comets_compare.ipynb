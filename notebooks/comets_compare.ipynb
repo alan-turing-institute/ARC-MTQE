{
 "cells": [
  {
   "cell_type": "code",
   "execution_count": 18,
   "metadata": {},
   "outputs": [],
   "source": [
    "import os\n",
    "import pickle\n",
    "\n",
    "from scipy.stats import spearmanr"
   ]
  },
  {
   "cell_type": "code",
   "execution_count": 24,
   "metadata": {},
   "outputs": [],
   "source": [
    "# path to ARC-MTQE directory\n",
    "main_dir = os.path.dirname(os.getcwd())\n",
    "data_dir = os.path.join(main_dir, \"data\", \"wmt-qe-2022-data\", \"test_data-gold_labels\", \"task1_da\")\n",
    "\n",
    "# whem the comparison script was run\n",
    "timestamp = \"20240221T160907\"\n",
    "out_dir = os.path.join(main_dir, \"results\", \"comets_compare\", timestamp)\n"
   ]
  },
  {
   "cell_type": "code",
   "execution_count": 29,
   "metadata": {},
   "outputs": [
    {
     "name": "stdout",
     "output_type": "stream",
     "text": [
      "en-cs\n",
      "COMET-QE 0.52\n",
      "COMETKiwi 0.61\n",
      "en-ja\n",
      "COMET-QE 0.29\n",
      "COMETKiwi 0.33\n",
      "en-mr\n",
      "COMET-QE 0.34\n",
      "COMETKiwi 0.55\n"
     ]
    }
   ],
   "source": [
    "language_pairs = [\"en-cs\", \"en-ja\", \"en-mr\"]\n",
    "\n",
    "for lp in language_pairs:\n",
    "    print(lp)\n",
    "\n",
    "    with open(os.path.join(out_dir, f\"cometqe_{lp}\"), \"rb\") as f:\n",
    "        qe_scores = pickle.load(f)\n",
    "\n",
    "    with open(os.path.join(out_dir, f\"cometkiwi_{lp}\"), \"rb\") as f:\n",
    "        kiwi_scores = pickle.load(f)\n",
    "\n",
    "    # with open(os.path.join(out_dir, f\"cometkiwi_xl_{lp}\"), \"rb\") as f:\n",
    "    #     kiwi_xl_scores = pickle.load(f)\n",
    "\n",
    "    with open(os.path.join(data_dir, lp, f\"test.2022.{lp}.da_score\")) as f:\n",
    "        labels = [float(score) for score in f.read().splitlines()]\n",
    "\n",
    "    print(\"COMET-QE\", f\"{spearmanr(qe_scores, labels).statistic:.2f}\")\n",
    "    print(\"COMETKiwi\", f\"{spearmanr(kiwi_scores, labels).statistic:.2f}\")\n",
    "    # print(\"COMETKiwi-XL\", f\"{spearmanr(kiwi_xl_scores, labels).statistic:.2f}\")"
   ]
  }
 ],
 "metadata": {
  "kernelspec": {
   "display_name": ".venv",
   "language": "python",
   "name": "python3"
  },
  "language_info": {
   "codemirror_mode": {
    "name": "ipython",
    "version": 3
   },
   "file_extension": ".py",
   "mimetype": "text/x-python",
   "name": "python",
   "nbconvert_exporter": "python",
   "pygments_lexer": "ipython3",
   "version": "3.9.7"
  }
 },
 "nbformat": 4,
 "nbformat_minor": 2
}
