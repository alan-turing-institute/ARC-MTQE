{
 "cells": [
  {
   "cell_type": "code",
   "execution_count": 6,
   "metadata": {},
   "outputs": [],
   "source": [
    "import os\n",
    "\n",
    "import numpy as np\n",
    "import pandas as pd"
   ]
  },
  {
   "cell_type": "code",
   "execution_count": 7,
   "metadata": {},
   "outputs": [
    {
     "name": "stderr",
     "output_type": "stream",
     "text": [
      "/var/folders/3h/4b2rm8kn7l9d6j583_k1mx1w0000gr/T/ipykernel_99692/1604623811.py:4: ParserWarning: Length of header or names does not match length of data. This leads to a loss of data with index_col=False.\n",
      "  df = pd.read_csv(file_path, sep=\"\\t\", index_col=False)\n"
     ]
    },
    {
     "data": {
      "text/html": [
       "<div>\n",
       "<style scoped>\n",
       "    .dataframe tbody tr th:only-of-type {\n",
       "        vertical-align: middle;\n",
       "    }\n",
       "\n",
       "    .dataframe tbody tr th {\n",
       "        vertical-align: top;\n",
       "    }\n",
       "\n",
       "    .dataframe thead th {\n",
       "        text-align: right;\n",
       "    }\n",
       "</style>\n",
       "<table border=\"1\" class=\"dataframe\">\n",
       "  <thead>\n",
       "    <tr style=\"text-align: right;\">\n",
       "      <th></th>\n",
       "      <th>seg_id</th>\n",
       "      <th>category</th>\n",
       "      <th>severity</th>\n",
       "    </tr>\n",
       "  </thead>\n",
       "  <tbody>\n",
       "    <tr>\n",
       "      <th>33976</th>\n",
       "      <td>1553</td>\n",
       "      <td>omission</td>\n",
       "      <td>major</td>\n",
       "    </tr>\n",
       "    <tr>\n",
       "      <th>33977</th>\n",
       "      <td>1554</td>\n",
       "      <td>No-error</td>\n",
       "      <td>No-error</td>\n",
       "    </tr>\n",
       "    <tr>\n",
       "      <th>33978</th>\n",
       "      <td>1555</td>\n",
       "      <td>No-error</td>\n",
       "      <td>No-error</td>\n",
       "    </tr>\n",
       "    <tr>\n",
       "      <th>33979</th>\n",
       "      <td>1556</td>\n",
       "      <td>mistranslation</td>\n",
       "      <td>minor</td>\n",
       "    </tr>\n",
       "    <tr>\n",
       "      <th>33980</th>\n",
       "      <td>1557</td>\n",
       "      <td>mistranslation</td>\n",
       "      <td>major</td>\n",
       "    </tr>\n",
       "  </tbody>\n",
       "</table>\n",
       "</div>"
      ],
      "text/plain": [
       "       seg_id        category  severity\n",
       "33976    1553        omission     major\n",
       "33977    1554        No-error  No-error\n",
       "33978    1555        No-error  No-error\n",
       "33979    1556  mistranslation     minor\n",
       "33980    1557  mistranslation     major"
      ]
     },
     "execution_count": 7,
     "metadata": {},
     "output_type": "execute_result"
    }
   ],
   "source": [
    "main_dir = os.path.dirname(os.getcwd())\n",
    "file_path = os.path.join(main_dir, \"data\", \"unbabel\", \"mqm_generalMT2022_enru.tsv\")\n",
    "\n",
    "df = pd.read_csv(file_path, sep=\"\\t\", index_col=False)\n",
    "df[['seg_id', 'category', 'severity']].tail()"
   ]
  },
  {
   "cell_type": "code",
   "execution_count": 8,
   "metadata": {},
   "outputs": [],
   "source": [
    "df['crit_error'] = np.where(df[\"severity\"] == \"critical\", 1, 0)"
   ]
  },
  {
   "cell_type": "code",
   "execution_count": 9,
   "metadata": {},
   "outputs": [],
   "source": [
    "n_rows = df.shape[0]\n",
    "n_segments = df['seg_id'].nunique()\n",
    "n_critical_errors = sum(df.groupby('seg_id')['crit_error'].sum() >= 1)"
   ]
  },
  {
   "cell_type": "code",
   "execution_count": 10,
   "metadata": {},
   "outputs": [
    {
     "name": "stdout",
     "output_type": "stream",
     "text": [
      "Number of rows: 33981\n",
      "Number of segments: 1215\n",
      "Number of critical errors: 92\n",
      "Percentage critical errors: 0.0757201646090535\n"
     ]
    }
   ],
   "source": [
    "print(f\"Number of rows: {n_rows}\")\n",
    "print(f\"Number of segments: {n_segments}\")\n",
    "print(f\"Number of critical errors: {n_critical_errors}\")\n",
    "print(f\"Percentage critical errors: {n_critical_errors/n_segments}\")"
   ]
  }
 ],
 "metadata": {
  "kernelspec": {
   "display_name": ".venv",
   "language": "python",
   "name": "python3"
  },
  "language_info": {
   "codemirror_mode": {
    "name": "ipython",
    "version": 3
   },
   "file_extension": ".py",
   "mimetype": "text/x-python",
   "name": "python",
   "nbconvert_exporter": "python",
   "pygments_lexer": "ipython3",
   "version": "3.9.7"
  }
 },
 "nbformat": 4,
 "nbformat_minor": 2
}
