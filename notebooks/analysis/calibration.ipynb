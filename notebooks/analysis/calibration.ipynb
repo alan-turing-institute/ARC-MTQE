{
 "cells": [
  {
   "cell_type": "markdown",
   "metadata": {},
   "source": [
    "This notebook creates plots to show how well calibrated the output of our models are. For a perfectly calibrated model, the output corresponds to probabilities, i.e., a record that scores 0.1 would have a 10% probability of being a critical error. "
   ]
  },
  {
   "cell_type": "code",
   "execution_count": null,
   "metadata": {},
   "outputs": [],
   "source": [
    "import os\n",
    "import pandas as pd\n",
    "from mtqe.data.loaders import load_ced_test_data, load_ced_data\n",
    "from mtqe.utils.paths import EVAL_DIR, PREDICTIONS_DIR\n",
    "from mtqe.utils.plots import create_histogram_plot, create_calib_plot\n",
    "from mtqe.utils.language_pairs import LI_LANGUAGE_PAIRS_WMT_21_CED\n",
    "from sklearn.isotonic import IsotonicRegression\n",
    "from sklearn.calibration import calibration_curve"
   ]
  },
  {
   "cell_type": "code",
   "execution_count": null,
   "metadata": {},
   "outputs": [],
   "source": [
    "# Set parameters for rest of analysis\n",
    "EXPERIMENT_GROUP_NAME = 'train_multilingual_auth_data_all'\n",
    "THRESHOLD_STRATEGY = 'default'\n",
    "FILE_SUFFIX = 'median_results.csv'\n",
    "CHART_NAME = 'Multilingual Authentic Data - one-step'"
   ]
  },
  {
   "cell_type": "code",
   "execution_count": null,
   "metadata": {},
   "outputs": [],
   "source": [
    "# Get the location of the evaluation data for the experiment group of interest - combine the en-ja directory if it is in a \n",
    "# separate folder\n",
    "eval_files = [os.path.join(EVAL_DIR, EXPERIMENT_GROUP_NAME, file) for file in os.listdir(os.path.join(EVAL_DIR, EXPERIMENT_GROUP_NAME)) if file.endswith(FILE_SUFFIX)]\n",
    "enja_separate = False\n",
    "if os.path.isdir(os.path.join(EVAL_DIR, EXPERIMENT_GROUP_NAME + '_enja')):\n",
    "    eval_files.extend([os.path.join(EVAL_DIR, EXPERIMENT_GROUP_NAME + '_enja', file) for file in os.listdir(os.path.join(EVAL_DIR, EXPERIMENT_GROUP_NAME + '_enja')) if file.endswith(FILE_SUFFIX)])\n",
    "    enja_separate = True\n",
    "    "
   ]
  },
  {
   "cell_type": "code",
   "execution_count": null,
   "metadata": {},
   "outputs": [],
   "source": [
    "# Concatenate the evaluation data\n",
    "dfs = []\n",
    "for file in eval_files:\n",
    "    df = pd.read_csv(file)\n",
    "    dfs.append(df)\n",
    "\n",
    "df_eval_results = pd.concat(dfs)"
   ]
  },
  {
   "cell_type": "code",
   "execution_count": null,
   "metadata": {},
   "outputs": [],
   "source": [
    "# Filter on the threshold strategy\n",
    "df_eval_results = df_eval_results[(df_eval_results['threshold_strategy'] == THRESHOLD_STRATEGY)]\n",
    "df_eval_dev_results = df_eval_results[(df_eval_results['split']=='dev')]\n",
    "df_eval_test_results = df_eval_results[(df_eval_results['split']=='test')]"
   ]
  },
  {
   "cell_type": "code",
   "execution_count": null,
   "metadata": {},
   "outputs": [],
   "source": [
    "# Get lists of dev data to create plot\n",
    "preds = []\n",
    "targets = []\n",
    "indices = []\n",
    "titles = []\n",
    "for lp in LI_LANGUAGE_PAIRS_WMT_21_CED:\n",
    "    seed = df_eval_dev_results[df_eval_dev_results['language_pair']==lp].iloc[0]['seed']\n",
    "    mcc = df_eval_dev_results[df_eval_dev_results['language_pair']==lp].iloc[0]['MCC']\n",
    "    precision = df_eval_dev_results[df_eval_dev_results['language_pair']==lp].iloc[0]['precision']\n",
    "    recall = df_eval_dev_results[df_eval_dev_results['language_pair']==lp].iloc[0]['recall']\n",
    "    titles.append('Language pair:' + lp)\n",
    "    threshold = df_eval_dev_results[df_eval_dev_results['language_pair']==lp].iloc[0]['threshold']\n",
    "    file_prefix = lp + '_dev_' + str(seed)\n",
    "    if lp == 'en-ja' and enja_separate:\n",
    "        folder = EXPERIMENT_GROUP_NAME + '_enja'\n",
    "    else:\n",
    "        folder = EXPERIMENT_GROUP_NAME\n",
    "    for file in os.listdir(os.path.join(PREDICTIONS_DIR, 'ced_data', folder)):\n",
    "        if file.startswith(file_prefix) and file.endswith('.csv'):\n",
    "            # found predictions\n",
    "            df_preds = pd.read_csv(os.path.join(PREDICTIONS_DIR, 'ced_data', folder, file))\n",
    "            scores = df_preds['score'].to_numpy()\n",
    "            scores = 1 - scores\n",
    "            preds.append(scores)\n",
    "    targets.append(1 - load_ced_data('dev', lp)['score'].to_numpy())\n",
    "    indices.append(load_ced_data('dev', lp)['idx'])"
   ]
  },
  {
   "cell_type": "code",
   "execution_count": null,
   "metadata": {},
   "outputs": [],
   "source": [
    "# Plot histogram showing distribution of raw scores\n",
    "fig = create_histogram_plot(CHART_NAME + ' - Dev', titles, preds)"
   ]
  },
  {
   "cell_type": "code",
   "execution_count": null,
   "metadata": {},
   "outputs": [],
   "source": [
    "# Get values for calibration plot\n",
    "x_vals = []\n",
    "y_vals = []\n",
    "for ind, _ in enumerate(preds):\n",
    "    y, x = calibration_curve(targets[ind], preds[ind], n_bins=10)\n",
    "    x_vals.append(x)\n",
    "    y_vals.append(y)"
   ]
  },
  {
   "cell_type": "code",
   "execution_count": null,
   "metadata": {},
   "outputs": [],
   "source": [
    "fig = create_calib_plot(CHART_NAME + ' - Dev', titles, x_vals, y_vals)"
   ]
  },
  {
   "cell_type": "code",
   "execution_count": null,
   "metadata": {},
   "outputs": [],
   "source": [
    "# Get lists of test data to create plot\n",
    "test_preds = []\n",
    "test_targets = []\n",
    "test_indices = []\n",
    "titles = []\n",
    "for lp in LI_LANGUAGE_PAIRS_WMT_21_CED:\n",
    "    seed = df_eval_test_results[df_eval_test_results['language_pair']==lp].iloc[0]['seed']\n",
    "    mcc = df_eval_test_results[df_eval_test_results['language_pair']==lp].iloc[0]['MCC']\n",
    "    precision = df_eval_test_results[df_eval_test_results['language_pair']==lp].iloc[0]['precision']\n",
    "    recall = df_eval_test_results[df_eval_test_results['language_pair']==lp].iloc[0]['recall']\n",
    "    titles.append('Language pair:' + lp)\n",
    "    threshold = df_eval_test_results[df_eval_test_results['language_pair']==lp].iloc[0]['threshold']\n",
    "    file_prefix = lp + '_' + 'test' + '_' + str(seed)\n",
    "    if lp == 'en-ja' and enja_separate:\n",
    "        folder = EXPERIMENT_GROUP_NAME + '_enja'\n",
    "    else:\n",
    "        folder = EXPERIMENT_GROUP_NAME\n",
    "    for file in os.listdir(os.path.join(PREDICTIONS_DIR, 'ced_data', folder)):\n",
    "        if file.startswith(file_prefix) and file.endswith('.csv'):\n",
    "            # found predictions\n",
    "            df_preds = pd.read_csv(os.path.join(PREDICTIONS_DIR, 'ced_data', folder, file))\n",
    "            scores = df_preds['score'].to_numpy()\n",
    "            scores = 1 - scores\n",
    "            test_preds.append(scores)\n",
    "    test_targets.append(1 - load_ced_test_data(lp)['score'].to_numpy())\n",
    "    test_indices.append(load_ced_test_data(lp)['idx'])"
   ]
  },
  {
   "cell_type": "code",
   "execution_count": null,
   "metadata": {},
   "outputs": [],
   "source": [
    "fig = create_histogram_plot(CHART_NAME + ' - Test', titles, test_preds)"
   ]
  },
  {
   "cell_type": "code",
   "execution_count": null,
   "metadata": {},
   "outputs": [],
   "source": [
    "x_vals = []\n",
    "y_vals = []\n",
    "for ind, _ in enumerate(test_preds):\n",
    "    y, x = calibration_curve(test_targets[ind], test_preds[ind], n_bins=10)\n",
    "    x_vals.append(x)\n",
    "    y_vals.append(y)"
   ]
  },
  {
   "cell_type": "code",
   "execution_count": null,
   "metadata": {},
   "outputs": [],
   "source": [
    "# Calibration plot for test data\n",
    "fig = create_calib_plot(CHART_NAME + ' - Test', titles, x_vals, y_vals)"
   ]
  },
  {
   "cell_type": "code",
   "execution_count": null,
   "metadata": {},
   "outputs": [],
   "source": [
    "# Create a calibration regressor using Isotonic Regression for each language pair using the dev data and apply it \n",
    "# to the dev and test data\n",
    "dev_x_vals = []\n",
    "dev_y_vals = []\n",
    "test_x_vals = []\n",
    "test_y_vals = []\n",
    "calibrated_test_preds = []\n",
    "for ind, _ in enumerate(preds):\n",
    "    iso_reg = IsotonicRegression().fit(preds[ind], targets[ind])\n",
    "    iso_preds = iso_reg.predict(preds[ind])\n",
    "    y, x = calibration_curve(targets[ind], iso_preds, n_bins=10)\n",
    "    dev_x_vals.append(x)\n",
    "    dev_y_vals.append(y)\n",
    "    df = pd.DataFrame(1-iso_preds, columns=['score'])\n",
    "    df.index = indices[ind]\n",
    "    if not os.path.exists(os.path.join(PREDICTIONS_DIR, 'ced_data', EXPERIMENT_GROUP_NAME + '_calibrated')):\n",
    "        os.mkdir(os.path.join(PREDICTIONS_DIR, 'ced_data', EXPERIMENT_GROUP_NAME + '_calibrated'))\n",
    "    df.to_csv(os.path.join(PREDICTIONS_DIR, 'ced_data', EXPERIMENT_GROUP_NAME + '_calibrated', LI_LANGUAGE_PAIRS_WMT_21_CED[ind] + '_dev_0.csv'))\n",
    "\n",
    "    iso_test_preds = iso_reg.predict(test_preds[ind])\n",
    "    calibrated_test_preds.append(iso_test_preds)\n",
    "    y, x = calibration_curve(test_targets[ind], iso_test_preds, n_bins=10)\n",
    "    test_x_vals.append(x)\n",
    "    test_y_vals.append(y)\n",
    "    df = pd.DataFrame(1-iso_test_preds, columns=['score'])\n",
    "    df.index = test_indices[ind]\n",
    "    df.to_csv(os.path.join(PREDICTIONS_DIR, 'ced_data', EXPERIMENT_GROUP_NAME + '_calibrated', LI_LANGUAGE_PAIRS_WMT_21_CED[ind] + '_test_0.csv'))\n",
    "    "
   ]
  },
  {
   "cell_type": "code",
   "execution_count": null,
   "metadata": {},
   "outputs": [],
   "source": [
    "# Plot to show calibration on Dev set after applying Isotonic Regression\n",
    "fig = create_calib_plot(CHART_NAME + ' - Dev', titles, dev_x_vals, dev_y_vals)"
   ]
  },
  {
   "cell_type": "code",
   "execution_count": null,
   "metadata": {},
   "outputs": [],
   "source": [
    "# Plot to show calibration on Test set after applying Isotonic Regression\n",
    "fig = create_calib_plot(CHART_NAME, titles, test_x_vals, test_y_vals)"
   ]
  }
 ],
 "metadata": {
  "kernelspec": {
   "display_name": "mtqe-Yrqycps9-py3.9",
   "language": "python",
   "name": "python3"
  },
  "language_info": {
   "codemirror_mode": {
    "name": "ipython",
    "version": 3
   },
   "file_extension": ".py",
   "mimetype": "text/x-python",
   "name": "python",
   "nbconvert_exporter": "python",
   "pygments_lexer": "ipython3",
   "version": "3.9.13"
  }
 },
 "nbformat": 4,
 "nbformat_minor": 2
}
