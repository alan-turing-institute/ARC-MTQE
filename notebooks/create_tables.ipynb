{
 "cells": [
  {
   "cell_type": "markdown",
   "metadata": {},
   "source": [
    "A notebook that puts evaluation results into a latex table format and prints the result.\n",
    "The results are grouped by result type, e.g., median, max etc."
   ]
  },
  {
   "cell_type": "code",
   "execution_count": null,
   "metadata": {},
   "outputs": [],
   "source": [
    "import os\n",
    "import pandas as pd\n",
    "from mtqe.utils.paths import EVAL_DIR\n",
    "from mtqe.utils.tables import create_latex_table"
   ]
  },
  {
   "cell_type": "code",
   "execution_count": null,
   "metadata": {},
   "outputs": [],
   "source": [
    "# Set the data split to be evaluated, and the metrics to be shown in the table\n",
    "DATA_SPLIT = 'test'\n",
    "# VALUES = ['precision', 'recall']\n",
    "VALUES = ['MCC']"
   ]
  },
  {
   "cell_type": "code",
   "execution_count": null,
   "metadata": {},
   "outputs": [],
   "source": [
    "folders = os.listdir(EVAL_DIR)"
   ]
  },
  {
   "cell_type": "code",
   "execution_count": null,
   "metadata": {},
   "outputs": [],
   "source": [
    "li_max_results = []\n",
    "li_min_results = []\n",
    "li_med_results = []\n",
    "li_mean_results = []\n",
    "li_ensemble_results = []"
   ]
  },
  {
   "cell_type": "code",
   "execution_count": null,
   "metadata": {},
   "outputs": [],
   "source": [
    "# Collect results for all experiment groups\n",
    "for folder in folders:\n",
    "    path = os.path.join(EVAL_DIR, folder)\n",
    "    if os.path.isdir(path):\n",
    "        files = os.listdir(path)\n",
    "        for file in files:\n",
    "            df = pd.read_csv(os.path.join(EVAL_DIR, folder, file))\n",
    "            if file.endswith('ensemble_results.csv'):\n",
    "                li_ensemble_results.append(df)\n",
    "            elif file.endswith('max_results.csv'):\n",
    "                li_max_results.append(df)\n",
    "            elif file.endswith('min_results.csv'):\n",
    "                li_min_results.append(df)\n",
    "            elif file.endswith('median_results.csv'):\n",
    "                li_med_results.append(df)\n",
    "            elif file.endswith('mean_results.csv'):\n",
    "                li_mean_results.append(df)\n",
    "\n",
    "df_ensemble = pd.concat(li_ensemble_results)\n",
    "df_max = pd.concat(li_max_results)\n",
    "df_min = pd.concat(li_min_results)\n",
    "df_med = pd.concat(li_med_results)\n",
    "df_mean = pd.concat(li_mean_results)"
   ]
  },
  {
   "cell_type": "code",
   "execution_count": null,
   "metadata": {},
   "outputs": [],
   "source": [
    "def update_exp_group_names(row):\n",
    "    if row['exp_group'][-4:] == 'enja':\n",
    "        row['exp_group'] = row['exp_group'][:-5]\n",
    "    return row"
   ]
  },
  {
   "cell_type": "code",
   "execution_count": null,
   "metadata": {},
   "outputs": [],
   "source": [
    "# Move en-ja results to same group as other language pairs, if they are separate.\n",
    "df_max = df_max.apply(update_exp_group_names, axis=1)\n",
    "df_min = df_min.apply(update_exp_group_names, axis=1)\n",
    "df_med = df_med.apply(update_exp_group_names, axis=1)\n",
    "df_mean = df_mean.apply(update_exp_group_names, axis=1)\n",
    "df_ensemble = df_ensemble.apply(update_exp_group_names, axis=1)"
   ]
  },
  {
   "cell_type": "code",
   "execution_count": null,
   "metadata": {},
   "outputs": [],
   "source": [
    "# Filter based on threshold strategy and data split - can create more dataframes here, as required\n",
    "df_max_default = df_max[(df_max['threshold_strategy']=='default') & (df_max['split'] == DATA_SPLIT)]\n",
    "df_min_default = df_min[(df_min['threshold_strategy']=='default') & (df_min['split'] == DATA_SPLIT)]\n",
    "df_med_default = df_med[(df_med['threshold_strategy']=='default') & (df_med['split'] == DATA_SPLIT)]\n",
    "df_mean_default = df_mean[(df_mean['threshold_strategy']=='default') & (df_mean['split'] == DATA_SPLIT)]\n",
    "df_ensemble_best = df_ensemble[(df_ensemble['threshold_strategy']=='best') & (df_ensemble['split'] == DATA_SPLIT)]"
   ]
  },
  {
   "cell_type": "code",
   "execution_count": null,
   "metadata": {},
   "outputs": [],
   "source": [
    "# Pivot the results for the metrics (values) to be shown in the table\n",
    "df_max_default = pd.pivot_table(df_max_default, index='exp_group', columns='language_pair', values=VALUES)\n",
    "df_max_default = df_max_default.rename_axis(None, axis=0)"
   ]
  },
  {
   "cell_type": "code",
   "execution_count": null,
   "metadata": {},
   "outputs": [],
   "source": [
    "df_min_default = pd.pivot_table(df_min_default, index='exp_group', columns='language_pair', values=VALUES)\n",
    "df_min_default = df_min_default.rename_axis(None, axis=0)"
   ]
  },
  {
   "cell_type": "code",
   "execution_count": null,
   "metadata": {},
   "outputs": [],
   "source": [
    "df_med_default = pd.pivot_table(df_med_default, index='exp_group', columns='language_pair', values=VALUES)\n",
    "df_med_default = df_med_default.rename_axis(None, axis=0)"
   ]
  },
  {
   "cell_type": "code",
   "execution_count": null,
   "metadata": {},
   "outputs": [],
   "source": [
    "df_mean_default = pd.pivot_table(df_mean_default, index='exp_group', columns='language_pair', values=VALUES)\n",
    "df_mean_default = df_mean_default.rename_axis(None, axis=0)"
   ]
  },
  {
   "cell_type": "code",
   "execution_count": null,
   "metadata": {},
   "outputs": [],
   "source": [
    "df_ensemble_best = pd.pivot_table(df_ensemble_best, index='exp_group', columns='language_pair', values=VALUES)\n",
    "df_ensemble_best = df_ensemble_best.rename_axis(None, axis=0)"
   ]
  },
  {
   "cell_type": "code",
   "execution_count": null,
   "metadata": {},
   "outputs": [],
   "source": [
    "df_med_default.shape"
   ]
  },
  {
   "cell_type": "code",
   "execution_count": null,
   "metadata": {},
   "outputs": [],
   "source": [
    "def create_table(df_data):\n",
    "    # Create table for columns and content \n",
    "    # NOTE: Should make this a function and pass the dataframe through as a parameter\n",
    "    if len(VALUES) == 1:\n",
    "        col_names = ['experiment_group', 'en-cs', 'en-de', 'en-ja', 'en-zh']\n",
    "        di_data = {df_data.index[i]: [df_data.iloc[i,0], df_data.iloc[i,1], df_data.iloc[i,2], df_data.iloc[i,3]] for i in range(len(df_data))}\n",
    "        li_data = create_latex_table(col_names, di_data)\n",
    "    elif len(VALUES) == 2: # Assume it's precision & recall\n",
    "        col_names = ['experiment_group', 'en-cs', '', 'en-de', '', 'en-ja', '', 'en-zh', '']\n",
    "        di_data = {df_data.index[i]: [df_data.iloc[i,0], df_data.iloc[i,4], df_data.iloc[i,1], df_data.iloc[i,5], df_data.iloc[i,2], df_data.iloc[i,6], df_data.iloc[i,3], df_data.iloc[i,7]] for i in range(len(df_data))}\n",
    "        li_data = create_latex_table(col_names, di_data)\n",
    "    print(li_data)"
   ]
  },
  {
   "cell_type": "code",
   "execution_count": null,
   "metadata": {},
   "outputs": [],
   "source": [
    "# Print the data of the median results for default threshold\n",
    "create_table(df_med_default)"
   ]
  },
  {
   "cell_type": "code",
   "execution_count": null,
   "metadata": {},
   "outputs": [],
   "source": [
    "def create_table_two_dfs(df_data_1, df_data_2):\n",
    "    # Create table for columns and content \n",
    "    # NOTE: Should make this a function and pass the dataframe through as a parameter\n",
    "    if len(VALUES) == 1:\n",
    "        col_names = ['experiment_group', 'en-cs','en-cs', 'en-de', 'en-de', 'en-ja', 'en-ja', 'en-zh', 'en-zh']\n",
    "        di_data = {df_data_1.index[i]: [df_data_1.iloc[i,0], df_data_2.iloc[i,0], df_data_1.iloc[i,1], df_data_2.iloc[i,1], df_data_1.iloc[i,2], df_data_2.iloc[i,2], df_data_1.iloc[i,3], df_data_2.iloc[i,3]] for i in range(len(df_data_1))}\n",
    "        li_data = create_latex_table(col_names, di_data)\n",
    "    print(li_data)"
   ]
  },
  {
   "cell_type": "code",
   "execution_count": null,
   "metadata": {},
   "outputs": [],
   "source": [
    "create_table_two_dfs(df_min_default, df_max_default)"
   ]
  },
  {
   "cell_type": "code",
   "execution_count": null,
   "metadata": {},
   "outputs": [],
   "source": []
  }
 ],
 "metadata": {
  "kernelspec": {
   "display_name": "mtqe-Yrqycps9-py3.9",
   "language": "python",
   "name": "python3"
  },
  "language_info": {
   "codemirror_mode": {
    "name": "ipython",
    "version": 3
   },
   "file_extension": ".py",
   "mimetype": "text/x-python",
   "name": "python",
   "nbconvert_exporter": "python",
   "pygments_lexer": "ipython3",
   "version": "3.9.13"
  }
 },
 "nbformat": 4,
 "nbformat_minor": 2
}
